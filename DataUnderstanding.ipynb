{
 "cells": [
  {
   "cell_type": "code",
   "execution_count": 1,
   "metadata": {},
   "outputs": [],
   "source": [
    "%matplotlib inline\n",
    "import math\n",
    "import numpy as np\n",
    "import pandas as pd\n",
    "import seaborn as sns\n",
    "import scipy.stats as stats\n",
    "import matplotlib.pyplot as plt\n",
    "import missingno as msno\n",
    "import random\n",
    "\n",
    "df = pd.read_csv('Train_HR_Employee_Attrition.csv')"
   ]
  },
  {
   "cell_type": "code",
   "execution_count": 2,
   "metadata": {},
   "outputs": [],
   "source": [
    "## DATA QUALITY ##\n",
    "\n",
    "df.Gender = df.groupby(['JobRole','MaritalStatus'])['Gender'].apply(lambda x: x.fillna(x.mode().iloc[0]))\n",
    "\n",
    "df.YearsAtCompany = df.groupby(['JobRole','Gender','MaritalStatus'])['YearsAtCompany'].apply(lambda x: x.fillna(x.mean()))\n",
    "\n",
    "bt_dic = df.BusinessTravel.value_counts(normalize=True).to_dict()\n",
    "def give_random():\n",
    "    return random.choices(list(bt_dic),list(bt_dic.values()))[0]\n",
    "df.loc[df.BusinessTravel.isnull(),'BusinessTravel'] = df.loc[df.BusinessTravel.isnull(),'BusinessTravel'].apply(lambda x: give_random())\n",
    "\n",
    "df.loc[:,'PerformanceRating'] = df.groupby(['Education','JobLevel'])['PerformanceRating'].apply(lambda x: x.fillna(x.mode().iloc[0]))\n",
    "\n",
    "df.loc[:,'Age']=df.groupby(['Gender','JobSatisfaction','EnvironmentSatisfaction','StockOptionLevel'])['Age'].apply(lambda x: x.fillna(x.mean()))\n",
    "\n",
    "df.loc[:,'Age_cat'] = pd.cut(df.Age,\n",
    "                                bins=[17,25,35,45,55,60],\n",
    "                                labels=['Very low','low','Medium','High','Very High'])\n",
    "df.loc[:,'MonthlyIncome'] = df.groupby(['Gender', 'Age_cat'])['MonthlyIncome'].apply(lambda x: x.fillna(x.mean()))\n",
    "\n",
    "df.drop(columns = 'TrainingTimesLastYear', inplace = True)\n",
    "\n",
    "#Elimino due colonne irrilevanti #addByAgne\n",
    "df.drop(columns=['StandardHours','Over18', 'Age_cat'], inplace = True)"
   ]
  },
  {
   "cell_type": "code",
   "execution_count": 3,
   "metadata": {},
   "outputs": [],
   "source": [
    "## TRANSFORMATON ##\n",
    "\n",
    "#Trasformazione in binari di tre attributi categorici \n",
    "df['Attrition'] = (df['Attrition'] == \"Yes\").astype(int)\n",
    "df['OverTime'] = (df['OverTime'] == \"Yes\").astype(int)\n",
    "df['Gender'] = (df['Gender'] == \"Male\").astype(int)\n",
    "\n",
    "#Discretizzazione della variabile DistanceFromHome\n",
    "for i, row in df.iterrows():\n",
    "    if row['DistanceFromHome'] <= 8: #Proximate\n",
    "        df.loc[i, 'DistanceFromHome'] = 1 \n",
    "    if row['DistanceFromHome'] > 8 and row['DistanceFromHome'] <= 15: #Near\n",
    "        df.loc[i, 'DistanceFromHome'] = 2\n",
    "    if row['DistanceFromHome'] > 15 and row['DistanceFromHome'] <= 22: #Intermediate\n",
    "        df.loc[i, 'DistanceFromHome'] = 3\n",
    "    if row['DistanceFromHome'] > 22 and row['DistanceFromHome'] <= 29: #Far\n",
    "        df.loc[i, 'DistanceFromHome'] = 4\n",
    "\n",
    "#Normalizzazione\n",
    "from sklearn.preprocessing import StandardScaler\n",
    "std_scale = StandardScaler().fit(df[['Age', 'DailyRate','HourlyRate','MonthlyRate','MonthlyIncome','PercentSalaryHike','YearsAtCompany']])\n",
    "df_std = std_scale.transform(df[['Age', 'DailyRate','HourlyRate','MonthlyRate','MonthlyIncome','PercentSalaryHike','YearsAtCompany']])\n",
    "\n",
    "df_new = pd.DataFrame(df_std)\n",
    "\n",
    "#df_new.columns\n",
    "df['Age'] = df_new[0].values\n",
    "df['DailyRate'] = df_new[1].values\n",
    "df['HourlyRate'] = df_new[2].values\n",
    "df['MonthlyRate'] = df_new[3].values\n",
    "df['MonthlyIncome'] = df_new[4].values\n",
    "df['PercentSalaryHike'] = df_new[5].values\n",
    "df['YearsAtCompany'] = df_new[6].values"
   ]
  },
  {
   "cell_type": "code",
   "execution_count": 4,
   "metadata": {},
   "outputs": [],
   "source": [
    "## CORRELATION ##\n",
    "\n",
    "for i, row in df.iterrows():\n",
    "    if row['JobRole'] == 'Manager':\n",
    "        if row['Department'] == 'Sales':\n",
    "            df.loc[i, 'JobRole'] = 'Manager Sales'\n",
    "        if row['Department'] == 'Human Resources':\n",
    "            df.loc[i, 'JobRole'] =  'Manager HR'\n",
    "        if row['Department'] == 'Research & Development':\n",
    "            df.loc[i, 'JobRole'] =  'Manager R&D'\n",
    "            \n",
    "df.drop(columns = 'Department', inplace=True)"
   ]
  },
  {
   "cell_type": "code",
   "execution_count": 6,
   "metadata": {},
   "outputs": [],
   "source": [
    "df.to_csv('Datasurce1.0.csv') #sistema di numerazione in previsione delle modifiche future, per essere tutti al pari"
   ]
  },
  {
   "cell_type": "code",
   "execution_count": null,
   "metadata": {},
   "outputs": [],
   "source": []
  }
 ],
 "metadata": {
  "kernelspec": {
   "display_name": "Python 3",
   "language": "python",
   "name": "python3"
  },
  "language_info": {
   "codemirror_mode": {
    "name": "ipython",
    "version": 3
   },
   "file_extension": ".py",
   "mimetype": "text/x-python",
   "name": "python",
   "nbconvert_exporter": "python",
   "pygments_lexer": "ipython3",
   "version": "3.8.3"
  }
 },
 "nbformat": 4,
 "nbformat_minor": 4
}
